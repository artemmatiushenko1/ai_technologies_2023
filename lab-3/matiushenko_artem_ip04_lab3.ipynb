{
  "cells": [
    {
      "cell_type": "code",
      "execution_count": 1511,
      "metadata": {
        "id": "OJwF-m2BbPFA"
      },
      "outputs": [],
      "source": [
        "import networkx as nx\n",
        "from matplotlib import pyplot as plt\n",
        "import random\n",
        "from IPython.display import clear_output\n",
        "import time\n",
        "import math"
      ]
    },
    {
      "cell_type": "code",
      "execution_count": 1512,
      "metadata": {
        "id": "3r-N6Oe8bPFD"
      },
      "outputs": [],
      "source": [
        "plt_options = {\n",
        "  \"node_size\": 350,\n",
        "  \"node_color\": \"white\",\n",
        "  \"edgecolors\": \"black\",\n",
        "  \"with_labels\": True,\n",
        "  \"font_size\": 8\n",
        "}\n",
        "\n",
        "agent_path_draw_delay = 1"
      ]
    },
    {
      "cell_type": "code",
      "execution_count": 1513,
      "metadata": {
        "id": "NGbot6aDbPFE"
      },
      "outputs": [],
      "source": [
        "def setup_road(n_edges_to_remove, m = 5, n = 5):\n",
        "  G = nx.grid_2d_graph(m, n)\n",
        "\n",
        "  available_edges = list(G.edges)\n",
        "\n",
        "  max_edges_to_remove = len(list(G.edges)) - len(list(G.nodes)) + 1\n",
        "\n",
        "  i = 0\n",
        "\n",
        "  while i < n_edges_to_remove and i < max_edges_to_remove:\n",
        "    selected_edge = random.choice(available_edges)\n",
        "    G.remove_edge(*selected_edge)\n",
        "\n",
        "    if not nx.is_connected(G):\n",
        "      G.add_edge(*selected_edge)\n",
        "    else:\n",
        "      i += 1\n",
        "\n",
        "    available_edges.remove(selected_edge)\n",
        "\n",
        "  return G"
      ]
    },
    {
      "cell_type": "code",
      "execution_count": 1514,
      "metadata": {
        "id": "nAOCSreDbPFF"
      },
      "outputs": [],
      "source": [
        "def draw_agent_path(path, road, current_crossroads, visited_crossroads):\n",
        "    edges = [(path[i], path[i+1]) for i in range(len(path) - 1)]\n",
        "    edge_labels = {edge: i + 1 for i, edge in enumerate(edges)}\n",
        "\n",
        "    pos = {(x,y):(y,-x) for x,y in road.nodes()}\n",
        "\n",
        "    path_node_color = ['red' if node == current_crossroads else 'yellowgreen' for node in path]\n",
        "    visited_crossroads_node_color = ['gray' if node in visited_crossroads else 'white' for node in road.nodes]\n",
        "\n",
        "    plt.figure(figsize=(5,5))\n",
        "    nx.draw(road, pos=pos, **{ **plt_options, 'node_color': visited_crossroads_node_color })\n",
        "    nx.draw_networkx_nodes(road, nodelist=path, pos=pos, node_color=path_node_color)\n",
        "    nx.draw_networkx_edges(road, edgelist=edges, pos=pos, edge_color='yellowgreen')\n",
        "    nx.draw_networkx_edge_labels(road, edge_labels=edge_labels, pos=pos)\n",
        "    plt.show()"
      ]
    },
    {
      "cell_type": "markdown",
      "metadata": {},
      "source": [
        "**Опис бази знань**<br>\n",
        "У даній лабораторній роботі базу знань агента було створено у вигляді окремого класу `KnowledgeBase`. Основними завданнями бази знань є:\n",
        "- зберігання даних про навколишнє середовище, отриманих від агента. <br>\n",
        "Виконується за допомогою методу `update`, який має викликати агент, передавши нову інформацію про структуру дороги. База знань зберігає інформацію, про структуру перехресть у словнику `available_paths` та інформацію про вже відвідані перехрестя у списку `visited_crossroads`.\n",
        "\n",
        "- аналіз та вирішення наступих дії агента. <br>\n",
        "Агент може отримати інформацію про те, куди потрібно рухатись далі, викликавши метод `suggent_next_move`. Оскільки в даній реалізації агента було додано нову інформацію про середовище, а саме інформацію про структуру сусідніх перехресть, це дало можливість удосконалити процес вибору шляху агента. На відміну від попередньої лабораторної роботи, де вибір наступного перехрестя для руху здійснювався випадковим чиним, тут здійснюється обрахунок відстаней до точки призначення від сусідніх перехресть. Наступним перехрестям для руху обирається те, яке є найближчим до точки призначення (обчислення відстані виконується методом `_calculate_distance`). Також додаткові знання про структуру перехресть дали можливість агенту не заходити в глухі кути, обираючи для руху лише ті перехрестя, які мають декількох невідвіданих сусідів.\n"
      ]
    },
    {
      "cell_type": "code",
      "execution_count": 1515,
      "metadata": {},
      "outputs": [],
      "source": [
        "class KnowledgeBase:\n",
        "  def __init__(self):\n",
        "    self.available_paths = {}\n",
        "    self.visited_crossroads = []\n",
        "\n",
        "  def _get_unvisited(self, crossroads_list): \n",
        "    unvisited_crossroads = []\n",
        "\n",
        "    for crossroads in crossroads_list:\n",
        "      if crossroads not in self.visited_crossroads:\n",
        "        unvisited_crossroads.append(crossroads)\n",
        "    \n",
        "    return unvisited_crossroads\n",
        "  \n",
        "  def _calculate_distance(self, crossroads_a, crossroads_b):\n",
        "    destY, destX = crossroads_b\n",
        "    depY, depX = crossroads_a\n",
        "\n",
        "    return math.sqrt((destX - depX)**2 + (destY - depY)**2)\n",
        "  \n",
        "  def update(self, crossroads, neighbords):\n",
        "    self.visited_crossroads.append(crossroads)\n",
        "    self.available_paths = {**self.available_paths, crossroads: neighbords}\n",
        "\n",
        "  \n",
        "  def suggent_next_move(self, current_crossroads, dest):\n",
        "    available_crossroads = self.available_paths[current_crossroads]\n",
        "\n",
        "    unvisited_crossroads = self._get_unvisited(available_crossroads)\n",
        "\n",
        "    min_distance = float('inf')\n",
        "\n",
        "    next_crossroads = None\n",
        "\n",
        "    for crossroads in unvisited_crossroads:\n",
        "      unvisited_neighbors = self._get_unvisited(available_crossroads[crossroads])\n",
        "\n",
        "      if crossroads == dest:\n",
        "        return crossroads\n",
        "\n",
        "      if not unvisited_neighbors:\n",
        "        continue\n",
        "\n",
        "      distances = map(lambda item: self._calculate_distance(item, dest), unvisited_neighbors)\n",
        "\n",
        "      local_min_distance = min(list(distances))\n",
        "\n",
        "      if local_min_distance < min_distance:\n",
        "        min_distance = local_min_distance\n",
        "        next_crossroads = crossroads\n",
        "\n",
        "    return next_crossroads"
      ]
    },
    {
      "cell_type": "markdown",
      "metadata": {},
      "source": [
        "**Опис алгоритму роботи агента**<br>\n",
        "Інтелектуального агента з попередньої лабораторної роботи було вдосконалено, додавши йому базу знань. Базуючись на класичному алгоритмі роботи агентів на основі бази знань, власному агенту було додано наступні методи:\n",
        "- `tell`, для внесення інформації про структуру перехресть до бази знань;\n",
        "- `ask`, для запиту інформації з бази знань про, те яку дію потрібно виконати наступною;\n",
        "- `act`, для виконнання дії отриманої методом `ask`.\n",
        "\n",
        "Відповідно до цього було модифіковано метод руху агента `drive`. До поки агент не дістанеться пункту призначення `dest` від буде послідовно виконувати наступні дії:\n",
        "1. Внесення інформації про структуру перехресть до бази знань (виклик `tell`);\n",
        "2. Запит наступної дії від бази знань (виклик `ask`);\n",
        "3. Виконння дії отриманої в кроці 2 (виклик `act`). У випадку, якщо база знань надала точку для подальшого руху, агент додасть її до списку свого шляху `stack`, в іншому випадку агент повернеться до попереднього місцеперебування та буде повторювати весь алгоритм поки не дістанеться кінцевої точки `dest` або вирішить, що шляху не існує."
      ]
    },
    {
      "cell_type": "code",
      "execution_count": 1516,
      "metadata": {
        "id": "i1g4zdGnbPFG"
      },
      "outputs": [],
      "source": [
        "class Agent:\n",
        "  def __init__(self, road: nx.Graph, knowledge_base: KnowledgeBase):\n",
        "    self.road = road\n",
        "    self.knowledge_base = knowledge_base\n",
        "    self.current_crossroads = None\n",
        "    self.moves_count = 0\n",
        "\n",
        "  def tell(self, current_crossroads):\n",
        "    available_paths = {}\n",
        "\n",
        "    for neighbor in self.road.neighbors(current_crossroads):\n",
        "      available_paths[neighbor] = list(self.road.neighbors(neighbor))\n",
        "    \n",
        "    self.knowledge_base.update(current_crossroads, available_paths)\n",
        "\n",
        "  def ask(self, dest):\n",
        "    return self.knowledge_base.suggent_next_move(self.current_crossroads, dest)\n",
        "\n",
        "  def act(self, next_crossroads, stack):\n",
        "    if next_crossroads:\n",
        "      print(f\"#{self.moves_count} Move: {next_crossroads}\")\n",
        "      \n",
        "      stack.append(next_crossroads)\n",
        "    else:\n",
        "      stack.pop()\n",
        "\n",
        "      if stack:\n",
        "        print(f\"#{self.moves_count} 🔴 Dead end! Move back to {stack[-1]}\")\n",
        "\n",
        "    if stack:\n",
        "      self.current_crossroads = stack[-1]\n",
        "\n",
        "  def drive(self, dep, dest):\n",
        "    stack = [dep]\n",
        "\n",
        "    self.current_crossroads = dep\n",
        "\n",
        "    self.moves_count = 0\n",
        "\n",
        "    while self.current_crossroads != dest and stack:\n",
        "      self.moves_count += 1\n",
        "\n",
        "      self.tell(self.current_crossroads)\n",
        "      next_crossroads = self.ask(dest)\n",
        "      self.act(next_crossroads, stack)\n",
        "\n",
        "      draw_agent_path(stack, self.road, self.current_crossroads, self.knowledge_base.visited_crossroads)\n",
        "      time.sleep(agent_path_draw_delay)\n",
        "      clear_output(wait=True)\n",
        "\n",
        "    if stack:\n",
        "      print(f\"🟢 Stop! Path is found: {stack}\")\n",
        "    else:\n",
        "      print(\"❌ Path wasn't found!\")\n",
        "\n",
        "    draw_agent_path(stack, self.road, self.current_crossroads, self.knowledge_base.visited_crossroads)\n",
        "      \n",
        "    return stack"
      ]
    },
    {
      "cell_type": "code",
      "execution_count": 1517,
      "metadata": {
        "colab": {
          "base_uri": "https://localhost:8080/",
          "height": 744
        },
        "id": "WEfrwsOlbPFG",
        "outputId": "e68a19a7-8c51-4a8d-f806-7f78136e4683"
      },
      "outputs": [
        {
          "name": "stdout",
          "output_type": "stream",
          "text": [
            "🟢 Stop! Path is found: [(0, 1), (0, 2), (0, 3), (0, 4), (1, 4), (2, 4), (3, 4), (4, 4)]\n"
          ]
        },
        {
          "data": {
            "image/png": "[encoded data removed]",
            "text/plain": [
              "<Figure size 500x500 with 1 Axes>"
            ]
          },
          "metadata": {},
          "output_type": "display_data"
        }
      ],
      "source": [
        "road = setup_road(n_edges_to_remove=10)\n",
        "knowledge_base = KnowledgeBase()\n",
        "agent = Agent(road, knowledge_base)\n",
        "\n",
        "path = agent.drive((0, 1), (4, 4))"
      ]
    },
    {
      "cell_type": "markdown",
      "metadata": {
        "id": "6QUyzPdo0uS8"
      },
      "source": [
        "**Висновок**: виконавши дану лабораторну роботу, було удосконалено інтелектуального агента розробленого у лабораторній роботі #2, шляхом створення та використання власної бази знань. Завдяки цим змінам та новій інформації про середовище, агент отримав можливість зберігати дану інформацію до бази знань, що дозволило йому краще орієнтуватися в просторі та уникати помилок."
      ]
    }
  ],
  "metadata": {
    "colab": {
      "provenance": []
    },
    "kernelspec": {
      "display_name": "Python 3",
      "language": "python",
      "name": "python3"
    },
    "language_info": {
      "codemirror_mode": {
        "name": "ipython",
        "version": 3
      },
      "file_extension": ".py",
      "mimetype": "text/x-python",
      "name": "python",
      "nbconvert_exporter": "python",
      "pygments_lexer": "ipython3",
      "version": "3.10.11"
    }
  },
  "nbformat": 4,
  "nbformat_minor": 0
}
