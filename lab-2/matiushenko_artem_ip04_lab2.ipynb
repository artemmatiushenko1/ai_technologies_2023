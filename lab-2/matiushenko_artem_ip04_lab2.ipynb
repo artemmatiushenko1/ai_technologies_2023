{
 "cells": [
  {
   "cell_type": "code",
   "execution_count": 1422,
   "metadata": {},
   "outputs": [],
   "source": [
    "import networkx as nx\n",
    "from matplotlib import pyplot as plt\n",
    "import random"
   ]
  },
  {
   "cell_type": "markdown",
   "metadata": {},
   "source": [
    "**Опис алгоритму генерації дороги**<br>\n",
    "Для генерації графу-дороги було створено функцію `setup_road`, яка в якості параметрів приймає `m` - кількість перехресть по вертикалі, `n` - кількість перехресть по горизонталі та `n_edges_to_remove` - кількість випадкових ребер графу, які потрібно видалити з дороги.\n",
    "\n",
    "За допомогою бібліотеки `networkx` створюється інстанс графу `G` у вигляді квадратної сітки. У циклі `while` зі списку всіх доступних до видалення ребер графу `available_edges` обирається випадкове ребро `selected_edge` та видаляється з нього, після чого виконується перевірка чи залишився граф повністю зв'язним. У випадку якщо граф перестав бути з'язним видалене ребро додається назад до графу, в іншому випадку відбувається перехід до наступної ітерації. У кінці кожної ітерації випадково обране ребро видаляється зі списку `available_edges`, оскільки воно, або вже було видалене з графу, або після його видалення граф стане незв'язним. Цикл буде виконуватись поки не буде видалено `n_edges_to_remove` ребер та кількість видалених ребер буде не більша ніж максимально можлива `max_edges_to_remove` (вираховується як `E - N + 1`, де `E` - кількість ребер графу та `N` - кількість вершин)."
   ]
  },
  {
   "cell_type": "code",
   "execution_count": 1423,
   "metadata": {},
   "outputs": [],
   "source": [
    "def setup_road(n_edges_to_remove, m = 5, n = 5):\n",
    "  G = nx.grid_2d_graph(m, n)\n",
    "\n",
    "  available_edges = list(G.edges)\n",
    "\n",
    "  max_edges_to_remove = len(list(G.edges)) - len(list(G.nodes)) + 1\n",
    "\n",
    "  i = 0\n",
    "\n",
    "  while i < n_edges_to_remove and i < max_edges_to_remove:\n",
    "    selected_edge = random.choice(available_edges)\n",
    "    G.remove_edge(*selected_edge)\n",
    "\n",
    "    if not nx.is_connected(G):\n",
    "      G.add_edge(*selected_edge)\n",
    "    else:\n",
    "      i += 1\n",
    "\n",
    "    available_edges.remove(selected_edge)\n",
    "\n",
    "  return G"
   ]
  },
  {
   "cell_type": "code",
   "execution_count": 1424,
   "metadata": {},
   "outputs": [],
   "source": [
    "plt_options = {\n",
    "  \"node_size\": 350,\n",
    "  \"node_color\": \"white\",\n",
    "  \"edgecolors\": \"black\",\n",
    "  \"with_labels\": True,\n",
    "  \"font_size\": 8\n",
    "}"
   ]
  },
  {
   "cell_type": "code",
   "execution_count": 1425,
   "metadata": {},
   "outputs": [],
   "source": [
    "def draw_road(road, plt_options):\n",
    "  plt.figure(figsize=(5,5))\n",
    "\n",
    "  pos = {(x,y):(y,-x) for x,y in road.nodes()}\n",
    "  \n",
    "  nx.draw(road, pos=pos, **plt_options)"
   ]
  },
  {
   "cell_type": "code",
   "execution_count": 1426,
   "metadata": {},
   "outputs": [],
   "source": [
    "def draw_agent_path(path, road):\n",
    "    edges = [(path[i], path[i+1]) for i in range(len(path) - 1)]\n",
    "    edge_labels = {edge: i + 1 for i, edge in enumerate(edges)}\n",
    "\n",
    "    pos = {(x,y):(y,-x) for x,y in road.nodes()}\n",
    "    \n",
    "    nx.draw_networkx_nodes(road, nodelist=path, pos=pos, node_color='yellowgreen')\n",
    "    nx.draw_networkx_edges(road, edgelist=edges, pos=pos, edge_color='yellowgreen')\n",
    "    nx.draw_networkx_edge_labels(road, edge_labels=edge_labels, pos=pos)"
   ]
  },
  {
   "cell_type": "markdown",
   "metadata": {},
   "source": [
    "**Опис алгоритму роботи агента**<br/>\n",
    "В програмному коді агента представлено у вигляді класу `Agent`, який в конструкторі отримує екзепляр згенерованої граф-дороги. Також агент має метод `drive`, для руху по даній граф-дорозі з точки відправлення (`dep`) до точки призначення (`dest`). Всередині даного методу ініціалізуються наступні структури даних:\n",
    "- visited_cossroads - список для зберігання даних про відвідані перехрестя"
   ]
  },
  {
   "cell_type": "code",
   "execution_count": 1427,
   "metadata": {},
   "outputs": [],
   "source": [
    "class Agent:\n",
    "  def __init__(self, road):\n",
    "    self.road = road\n",
    "\n",
    "  def drive(self, dep, dest):\n",
    "    visited_crossroads = []\n",
    "\n",
    "    stack = []\n",
    "\n",
    "    stack.append(dep)\n",
    "\n",
    "    current_crossroads = dep\n",
    "\n",
    "    moves_count = 0\n",
    "\n",
    "    while len(stack):\n",
    "      moves_count += 1\n",
    "      \n",
    "      visited_crossroads.append(current_crossroads)\n",
    "\n",
    "      if current_crossroads == dest:\n",
    "        print(f\"🟢 Stop! Path is found: {stack}\")\n",
    "\n",
    "        return stack\n",
    "\n",
    "      neighbors = self.road.neighbors(current_crossroads)\n",
    "      unvisited_neighbors = []\n",
    "\n",
    "      for neighbor in neighbors:\n",
    "        if neighbor not in visited_crossroads:\n",
    "          unvisited_neighbors.append(neighbor)\n",
    "\n",
    "      if not len(unvisited_neighbors):\n",
    "        stack.pop()\n",
    "\n",
    "        if not len(stack):\n",
    "          print(\"❌ Path wasn't found!\")\n",
    "          \n",
    "          return []\n",
    "        \n",
    "        current_crossroads = stack[-1]\n",
    "        \n",
    "        print(f\"#{moves_count} 🔴 Dead end! Move back to {stack[-1]}\")\n",
    "      else:\n",
    "        next_crossroads = random.choice(unvisited_neighbors)\n",
    "        stack.append(next_crossroads)\n",
    "        current_crossroads = next_crossroads\n",
    "\n",
    "        print(f\"#{moves_count} Move: {next_crossroads}\")"
   ]
  },
  {
   "cell_type": "code",
   "execution_count": 1428,
   "metadata": {},
   "outputs": [
    {
     "name": "stdout",
     "output_type": "stream",
     "text": [
      "#1 Move: (2, 3)\n",
      "#2 Move: (3, 3)\n",
      "#3 Move: (4, 3)\n",
      "#4 Move: (4, 4)\n",
      "🟢 Stop! Path is found: [(2, 2), (2, 3), (3, 3), (4, 3), (4, 4)]\n"
     ]
    },
    {
     "data": {
      "image/png": "[encoded data removed]",
      "text/plain": [
       "<Figure size 500x500 with 1 Axes>"
      ]
     },
     "metadata": {},
     "output_type": "display_data"
    }
   ],
   "source": [
    "road = setup_road(n_edges_to_remove=10)\n",
    "agent = Agent(road)\n",
    "path = agent.drive((2, 2), (4, 4))\n",
    "\n",
    "draw_road(road, plt_options)\n",
    "draw_agent_path(path, road)"
   ]
  }
 ],
 "metadata": {
  "kernelspec": {
   "display_name": "Python 3",
   "language": "python",
   "name": "python3"
  },
  "language_info": {
   "codemirror_mode": {
    "name": "ipython",
    "version": 3
   },
   "file_extension": ".py",
   "mimetype": "text/x-python",
   "name": "python",
   "nbconvert_exporter": "python",
   "pygments_lexer": "ipython3",
   "version": "3.10.11"
  }
 },
 "nbformat": 4,
 "nbformat_minor": 2
}
