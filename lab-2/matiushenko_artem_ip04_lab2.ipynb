{
 "cells": [
  {
   "cell_type": "code",
   "execution_count": 542,
   "metadata": {},
   "outputs": [],
   "source": [
    "import networkx as nx\n",
    "from matplotlib import pyplot as plt\n",
    "import random\n",
    "from functools import reduce"
   ]
  },
  {
   "cell_type": "markdown",
   "metadata": {},
   "source": [
    "**Опис алгоритму генерації дороги**<br>\n",
    "Для генерації графу-дороги було створено функцію `setup_road`, яка в якості параметрів приймає `m` - кількість перехресть по вертикалі, `n` - кількість перехресть по горизонталі та `n_edges_to_remove` - кількість випадкових ребер графу, які потрібно видалити з дороги.\n",
    "\n",
    "За допомогою бібліотеки `networkx` створюється інстанс графу `G` у вигляді квадратної сітки. У циклі `while` зі списку всіх доступних до видалення ребер графу `available_edges` обирається випадкове ребро `selected_edge` та видаляється з нього, після чого виконується перевірка чи залишився граф повністю зв'язним. У випадку якщо граф перестав бути з'язним видалене ребро додається назад до графу, в іншому випадку відбувається перехід до наступної ітерації. У кінці кожної ітерації випадково обране ребро видаляється зі списку `available_edges`, оскільки воно, або вже було видалене з графу, або після його видалення граф стане незв'язним. Цикл буде виконуватись поки не буде видалено `n_edges_to_remove` ребер та кількість видалених ребер буде не більша ніж максимально можлива `max_edges_to_remove` (вираховується як `E - N + 1`, де `E` - кількість ребер графу та `N` - кількість вершин)."
   ]
  },
  {
   "cell_type": "code",
   "execution_count": 543,
   "metadata": {},
   "outputs": [],
   "source": [
    "def setup_road(n_edges_to_remove, m = 5, n = 5):\n",
    "  G = nx.grid_2d_graph(m, n)\n",
    "\n",
    "  available_edges = list(G.edges)\n",
    "\n",
    "  max_edges_to_remove = len(list(G.edges)) - len(list(G.nodes)) + 1\n",
    "\n",
    "  i = 0\n",
    "\n",
    "  while i < n_edges_to_remove and i < max_edges_to_remove:\n",
    "    selected_edge = random.choice(available_edges)\n",
    "    G.remove_edge(*selected_edge)\n",
    "\n",
    "    if not nx.is_connected(G):\n",
    "      G.add_edge(*selected_edge)\n",
    "    else:\n",
    "      i += 1\n",
    "\n",
    "    available_edges.remove(selected_edge)\n",
    "\n",
    "  return G"
   ]
  },
  {
   "cell_type": "code",
   "execution_count": 544,
   "metadata": {},
   "outputs": [],
   "source": [
    "plt_options = {\n",
    "  \"node_size\": 350,\n",
    "  \"node_color\": \"white\",\n",
    "  \"edgecolors\": \"black\",\n",
    "  \"with_labels\": True,\n",
    "  \"font_size\": 8\n",
    "}"
   ]
  },
  {
   "cell_type": "code",
   "execution_count": 545,
   "metadata": {},
   "outputs": [],
   "source": [
    "def draw_road(road, plt_options):\n",
    "  plt.figure(figsize=(5,5))\n",
    "\n",
    "  pos = {(x,y):(y,-x) for x,y in road.nodes()}\n",
    "  \n",
    "  nx.draw(road, pos=pos, **plt_options)"
   ]
  },
  {
   "cell_type": "code",
   "execution_count": 546,
   "metadata": {},
   "outputs": [],
   "source": [
    "def draw_agent_path(path, road):\n",
    "    edges = [(path[i], path[i+1]) for i in range(len(path) - 1)]\n",
    "    edge_labels = {edge: i + 1 for i, edge in enumerate(edges)}\n",
    "\n",
    "    pos = {(x,y):(y,-x) for x,y in road.nodes()}\n",
    "    nx.draw_networkx_nodes(road, nodelist=path, pos=pos, node_color='yellowgreen')\n",
    "    nx.draw_networkx_edges(road, edgelist=edges, pos=pos, edge_color='yellowgreen')\n",
    "    nx.draw_networkx_edge_labels(road, edge_labels=edge_labels, pos=pos)"
   ]
  },
  {
   "cell_type": "code",
   "execution_count": 547,
   "metadata": {},
   "outputs": [],
   "source": [
    "class Agent:\n",
    "  def __init__(self, road) -> None:\n",
    "    self.road = road\n",
    "\n",
    "  def drive(self, departure_point, destination_point):\n",
    "    visited = {}\n",
    "\n",
    "    stack = []\n",
    "\n",
    "    stack.append((departure_point, None))\n",
    "\n",
    "    while len(stack):\n",
    "      current_point, parent_point = stack.pop()\n",
    "      visited[current_point] = parent_point\n",
    "\n",
    "      if current_point == destination_point:\n",
    "        path = [destination_point]\n",
    "        current = visited[destination_point]\n",
    "\n",
    "        while current != departure_point:\n",
    "          path.insert(0, current)\n",
    "          current = visited[current]\n",
    "        \n",
    "        path.insert(0, departure_point)\n",
    "\n",
    "        return path\n",
    "\n",
    "      neighbors = self.road.neighbors(current_point)\n",
    "      \n",
    "      for neighbor in neighbors:\n",
    "        if neighbor not in visited:\n",
    "          stack.append((neighbor, current_point))"
   ]
  },
  {
   "cell_type": "code",
   "execution_count": 548,
   "metadata": {},
   "outputs": [
    {
     "data": {
      "image/png": "[encoded data removed]",
      "text/plain": [
       "<Figure size 500x500 with 1 Axes>"
      ]
     },
     "metadata": {},
     "output_type": "display_data"
    }
   ],
   "source": [
    "road = setup_road(n_edges_to_remove=10)\n",
    "agent = Agent(road)\n",
    "path = agent.drive((2, 2), (4, 4))\n",
    "\n",
    "draw_road(road, plt_options)\n",
    "draw_agent_path(path, road)"
   ]
  }
 ],
 "metadata": {
  "kernelspec": {
   "display_name": "Python 3",
   "language": "python",
   "name": "python3"
  },
  "language_info": {
   "codemirror_mode": {
    "name": "ipython",
    "version": 3
   },
   "file_extension": ".py",
   "mimetype": "text/x-python",
   "name": "python",
   "nbconvert_exporter": "python",
   "pygments_lexer": "ipython3",
   "version": "3.10.11"
  }
 },
 "nbformat": 4,
 "nbformat_minor": 2
}
